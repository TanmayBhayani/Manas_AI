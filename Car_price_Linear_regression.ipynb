{
 "cells": [
  {
   "cell_type": "code",
   "execution_count": 1,
   "metadata": {},
   "outputs": [],
   "source": [
    "import numpy as np\n",
    "import pandas as pd\n",
    "import matplotlib.pyplot as plt"
   ]
  },
  {
   "cell_type": "code",
   "execution_count": 2,
   "metadata": {
    "scrolled": true
   },
   "outputs": [
    {
     "data": {
      "text/html": [
       "<div>\n",
       "<style scoped>\n",
       "    .dataframe tbody tr th:only-of-type {\n",
       "        vertical-align: middle;\n",
       "    }\n",
       "\n",
       "    .dataframe tbody tr th {\n",
       "        vertical-align: top;\n",
       "    }\n",
       "\n",
       "    .dataframe thead th {\n",
       "        text-align: right;\n",
       "    }\n",
       "</style>\n",
       "<table border=\"1\" class=\"dataframe\">\n",
       "  <thead>\n",
       "    <tr style=\"text-align: right;\">\n",
       "      <th></th>\n",
       "      <th>year</th>\n",
       "      <th>selling_price</th>\n",
       "      <th>km_driven</th>\n",
       "      <th>fuel</th>\n",
       "      <th>seller_type</th>\n",
       "      <th>transmission</th>\n",
       "      <th>owner</th>\n",
       "      <th>mileage</th>\n",
       "      <th>engine</th>\n",
       "      <th>max_power</th>\n",
       "      <th>torque</th>\n",
       "      <th>seats</th>\n",
       "    </tr>\n",
       "    <tr>\n",
       "      <th>name</th>\n",
       "      <th></th>\n",
       "      <th></th>\n",
       "      <th></th>\n",
       "      <th></th>\n",
       "      <th></th>\n",
       "      <th></th>\n",
       "      <th></th>\n",
       "      <th></th>\n",
       "      <th></th>\n",
       "      <th></th>\n",
       "      <th></th>\n",
       "      <th></th>\n",
       "    </tr>\n",
       "  </thead>\n",
       "  <tbody>\n",
       "    <tr>\n",
       "      <th>Maruti Swift Dzire VDI</th>\n",
       "      <td>2014</td>\n",
       "      <td>450000</td>\n",
       "      <td>145500</td>\n",
       "      <td>Diesel</td>\n",
       "      <td>Individual</td>\n",
       "      <td>Manual</td>\n",
       "      <td>First Owner</td>\n",
       "      <td>23.4 kmpl</td>\n",
       "      <td>1248 CC</td>\n",
       "      <td>74 bhp</td>\n",
       "      <td>190Nm@ 2000rpm</td>\n",
       "      <td>5.0</td>\n",
       "    </tr>\n",
       "    <tr>\n",
       "      <th>Skoda Rapid 1.5 TDI Ambition</th>\n",
       "      <td>2014</td>\n",
       "      <td>370000</td>\n",
       "      <td>120000</td>\n",
       "      <td>Diesel</td>\n",
       "      <td>Individual</td>\n",
       "      <td>Manual</td>\n",
       "      <td>Second Owner</td>\n",
       "      <td>21.14 kmpl</td>\n",
       "      <td>1498 CC</td>\n",
       "      <td>103.52 bhp</td>\n",
       "      <td>250Nm@ 1500-2500rpm</td>\n",
       "      <td>5.0</td>\n",
       "    </tr>\n",
       "    <tr>\n",
       "      <th>Honda City 2017-2020 EXi</th>\n",
       "      <td>2006</td>\n",
       "      <td>158000</td>\n",
       "      <td>140000</td>\n",
       "      <td>Petrol</td>\n",
       "      <td>Individual</td>\n",
       "      <td>Manual</td>\n",
       "      <td>Third Owner</td>\n",
       "      <td>17.7 kmpl</td>\n",
       "      <td>1497 CC</td>\n",
       "      <td>78 bhp</td>\n",
       "      <td>12.7@ 2,700(kgm@ rpm)</td>\n",
       "      <td>5.0</td>\n",
       "    </tr>\n",
       "    <tr>\n",
       "      <th>Hyundai i20 Sportz Diesel</th>\n",
       "      <td>2010</td>\n",
       "      <td>225000</td>\n",
       "      <td>127000</td>\n",
       "      <td>Diesel</td>\n",
       "      <td>Individual</td>\n",
       "      <td>Manual</td>\n",
       "      <td>First Owner</td>\n",
       "      <td>23.0 kmpl</td>\n",
       "      <td>1396 CC</td>\n",
       "      <td>90 bhp</td>\n",
       "      <td>22.4 kgm at 1750-2750rpm</td>\n",
       "      <td>5.0</td>\n",
       "    </tr>\n",
       "    <tr>\n",
       "      <th>Maruti Swift VXI BSIII</th>\n",
       "      <td>2007</td>\n",
       "      <td>130000</td>\n",
       "      <td>120000</td>\n",
       "      <td>Petrol</td>\n",
       "      <td>Individual</td>\n",
       "      <td>Manual</td>\n",
       "      <td>First Owner</td>\n",
       "      <td>16.1 kmpl</td>\n",
       "      <td>1298 CC</td>\n",
       "      <td>88.2 bhp</td>\n",
       "      <td>11.5@ 4,500(kgm@ rpm)</td>\n",
       "      <td>5.0</td>\n",
       "    </tr>\n",
       "  </tbody>\n",
       "</table>\n",
       "</div>"
      ],
      "text/plain": [
       "                              year  selling_price  km_driven    fuel  \\\n",
       "name                                                                   \n",
       "Maruti Swift Dzire VDI        2014         450000     145500  Diesel   \n",
       "Skoda Rapid 1.5 TDI Ambition  2014         370000     120000  Diesel   \n",
       "Honda City 2017-2020 EXi      2006         158000     140000  Petrol   \n",
       "Hyundai i20 Sportz Diesel     2010         225000     127000  Diesel   \n",
       "Maruti Swift VXI BSIII        2007         130000     120000  Petrol   \n",
       "\n",
       "                             seller_type transmission         owner  \\\n",
       "name                                                                  \n",
       "Maruti Swift Dzire VDI        Individual       Manual   First Owner   \n",
       "Skoda Rapid 1.5 TDI Ambition  Individual       Manual  Second Owner   \n",
       "Honda City 2017-2020 EXi      Individual       Manual   Third Owner   \n",
       "Hyundai i20 Sportz Diesel     Individual       Manual   First Owner   \n",
       "Maruti Swift VXI BSIII        Individual       Manual   First Owner   \n",
       "\n",
       "                                 mileage   engine   max_power  \\\n",
       "name                                                            \n",
       "Maruti Swift Dzire VDI         23.4 kmpl  1248 CC      74 bhp   \n",
       "Skoda Rapid 1.5 TDI Ambition  21.14 kmpl  1498 CC  103.52 bhp   \n",
       "Honda City 2017-2020 EXi       17.7 kmpl  1497 CC      78 bhp   \n",
       "Hyundai i20 Sportz Diesel      23.0 kmpl  1396 CC      90 bhp   \n",
       "Maruti Swift VXI BSIII         16.1 kmpl  1298 CC    88.2 bhp   \n",
       "\n",
       "                                                torque  seats  \n",
       "name                                                           \n",
       "Maruti Swift Dzire VDI                  190Nm@ 2000rpm    5.0  \n",
       "Skoda Rapid 1.5 TDI Ambition       250Nm@ 1500-2500rpm    5.0  \n",
       "Honda City 2017-2020 EXi         12.7@ 2,700(kgm@ rpm)    5.0  \n",
       "Hyundai i20 Sportz Diesel     22.4 kgm at 1750-2750rpm    5.0  \n",
       "Maruti Swift VXI BSIII           11.5@ 4,500(kgm@ rpm)    5.0  "
      ]
     },
     "execution_count": 2,
     "metadata": {},
     "output_type": "execute_result"
    }
   ],
   "source": [
    "df =  pd.read_csv(\"data/car_price.csv\")\n",
    "train_data = df.loc[:6500,:]\n",
    "test_data = df.loc[6500:,:]\n",
    "train_data.set_index(\"name\",inplace=True)\n",
    "test_data.set_index(\"name\",inplace=True)\n",
    "train_data.head()"
   ]
  },
  {
   "cell_type": "code",
   "execution_count": 16,
   "metadata": {},
   "outputs": [],
   "source": [
    "output = train_data.selling_price\n",
    "train_data.drop(\"selling_price\",inplace=True,axis=1)\n",
    "train_data = train_data.reset_index()\n",
    "train_data = train_data.to_numpy()\n",
    "output = output.to_numpy()\n",
    "m = output.shape\n",
    "train_data = np.append(train_data,np.ones([m[0],1]),axis=1)"
   ]
  },
  {
   "cell_type": "code",
   "execution_count": 17,
   "metadata": {},
   "outputs": [
    {
     "name": "stdout",
     "output_type": "stream",
     "text": [
      "                 0       1         2    3      4       5       6    7    8   \\\n",
      "0     580881.772727  2014.0  145500.0  8.0  23.40  1248.0   74.00  5.0  0.0   \n",
      "1     490000.000000  2014.0  120000.0  4.0  21.14  1498.0  103.52  5.0  0.0   \n",
      "2     167666.666667  2006.0  140000.0  3.0  17.70  1497.0   78.00  5.0  0.0   \n",
      "3     225000.000000  2010.0  127000.0  8.0  23.00  1396.0   90.00  5.0  0.0   \n",
      "4     130000.000000  2007.0  120000.0  8.0  16.10  1298.0   88.20  5.0  0.0   \n",
      "...             ...     ...       ...  ...    ...     ...     ...  ...  ...   \n",
      "6496  610000.000000  2015.0   33000.0  8.0  20.73  1373.0   91.10  5.0  0.0   \n",
      "6497  979000.000000  2015.0   50000.0  8.0  19.67  1582.0  126.20  5.0  0.0   \n",
      "6498  475571.285714  2012.0  120000.0  4.0  12.05  2179.0  120.00  9.0  0.0   \n",
      "6499  527500.000000  2018.0   35000.0  8.0  25.40  1186.0   73.97  5.0  0.0   \n",
      "6500  700000.000000  2018.0   43000.0  8.0  27.40  1498.0   98.63  5.0  0.0   \n",
      "\n",
      "       9    10   11   12   13      14      15      16   17  \n",
      "0     1.0  0.0  0.0  1.0  1.0  190.00  2000.0  2000.0  1.0  \n",
      "1     1.0  0.0  0.0  1.0  1.0  250.00  1500.0  2500.0  1.0  \n",
      "2     0.0  1.0  0.0  1.0  1.0   12.70  2700.0  2700.0  1.0  \n",
      "3     1.0  0.0  0.0  1.0  1.0   22.40  1750.0  2750.0  1.0  \n",
      "4     0.0  1.0  0.0  1.0  1.0   11.50  4500.0  4500.0  1.0  \n",
      "...   ...  ...  ...  ...  ...     ...     ...     ...  ...  \n",
      "6496  0.0  1.0  0.0  1.0  1.0  130.00  4000.0  4000.0  1.0  \n",
      "6497  1.0  0.0  0.0  1.0  1.0  259.90  1900.0  2750.0  1.0  \n",
      "6498  1.0  0.0  0.0  1.0  1.0  290.00  1800.0  2800.0  1.0  \n",
      "6499  1.0  0.0  0.0  1.0  1.0  190.25  1750.0  2250.0  1.0  \n",
      "6500  1.0  0.0  0.0  1.0  1.0  200.00  1750.0  1750.0  1.0  \n",
      "\n",
      "[6501 rows x 18 columns]\n"
     ]
    }
   ],
   "source": [
    "print(pd.DataFrame(train_data))"
   ]
  },
  {
   "cell_type": "code",
   "execution_count": 18,
   "metadata": {},
   "outputs": [
    {
     "name": "stdout",
     "output_type": "stream",
     "text": [
      "[ 9.83793362e-01  4.23050560e+03 -1.94531682e-01  3.55826936e+03\n",
      " -1.57770379e+03  1.50268497e+01  1.18529706e+02 -5.02233774e+03\n",
      " -2.64943505e+04 -2.81319762e+04 -2.58132832e+04  1.88616770e+04\n",
      "  1.36491066e+04  6.46398140e+03 -7.51155779e+01 -1.37914354e+00\n",
      " -8.23268581e+00 -8.44444174e+06]\n"
     ]
    }
   ],
   "source": [
    "Xt = train_data.transpose()\n",
    "theta = np.dot(np.linalg.inv(np.dot(Xt,train_data)),np.dot(Xt,output))\n"
   ]
  },
  {
   "cell_type": "code",
   "execution_count": 19,
   "metadata": {},
   "outputs": [
    {
     "data": {
      "text/plain": [
       "(18,)"
      ]
     },
     "execution_count": 19,
     "metadata": {},
     "output_type": "execute_result"
    }
   ],
   "source": [
    "theta.shape"
   ]
  },
  {
   "cell_type": "code",
   "execution_count": 3,
   "metadata": {},
   "outputs": [],
   "source": [
    "models = train_data.index.unique()\n",
    "model_mean = []\n",
    "for n in models:\n",
    "    model_mean.append(train_data.loc[n,\"selling_price\"].mean())\n",
    "name_mapper = dict(zip(models,model_mean))"
   ]
  },
  {
   "cell_type": "code",
   "execution_count": 4,
   "metadata": {},
   "outputs": [],
   "source": [
    "def clean_name(df):\n",
    "    df.index = df.index.map(name_mapper)\n",
    "    return df"
   ]
  },
  {
   "cell_type": "code",
   "execution_count": 5,
   "metadata": {},
   "outputs": [],
   "source": [
    "def clean_owner(df):\n",
    "    owner_mapper = {\"First Owner\":8,\"Test Drive Car\":4.5,\"Second Owner\":4,\"Third Owner\":3,\"Fourth & Above Owner\":2}\n",
    "    df.owner = df.owner.map(owner_mapper)\n",
    "    return df"
   ]
  },
  {
   "cell_type": "code",
   "execution_count": 6,
   "metadata": {},
   "outputs": [],
   "source": [
    "def one_hot_encoding(df):\n",
    "    df = pd.get_dummies(df,columns = [\"fuel\",\"seller_type\",\"transmission\"])\n",
    "    drop_columns = [\"fuel_LPG\",\"seller_type_Trustmark Dealer\",\"transmission_Automatic\"]\n",
    "    df.drop(drop_columns,inplace=True,axis=1)\n",
    "    return df"
   ]
  },
  {
   "cell_type": "code",
   "execution_count": 7,
   "metadata": {},
   "outputs": [],
   "source": [
    "def remove_units(df):\n",
    "    df[\"mileage\"] = df[\"mileage\"].str.extract(r'(\\d+.?\\d*)')\n",
    "    df[\"engine\"] = df[\"engine\"].str.extract(r'(\\d+)')\n",
    "    df[\"max_power\"] = df[\"max_power\"].str.extract(r'(\\d+.?\\d*)')\n",
    "    return df"
   ]
  },
  {
   "cell_type": "code",
   "execution_count": 8,
   "metadata": {},
   "outputs": [],
   "source": [
    "def clean_torque(df):\n",
    "    df[\"torque_1\"] = df[\"torque\"].str.extract(r'(\\d+\\.?\\d*)')\n",
    "    rpm = df[\"torque\"].str.extract(r'(at|@)\\s(\\d+,?\\d+)-?(\\d*)')\n",
    "    for index,row in rpm.iterrows():\n",
    "        if row[2] == '':\n",
    "            row[2] = row[1]\n",
    "    df[\"lower_rpm\"] = rpm[1]\n",
    "    df[\"upper_rpm\"] = rpm[2]\n",
    "    df[\"lower_rpm\"].replace(to_replace='(\\d+),(\\d*)',value=r\"\\1\\2\",inplace=True,regex=True)\n",
    "    df[\"upper_rpm\"].replace(to_replace='(\\d+),(\\d*)',value=r\"\\1\\2\",inplace=True,regex=True)\n",
    "    df.drop(\"torque\",inplace=True,axis=1)\n",
    "    return df"
   ]
  },
  {
   "cell_type": "code",
   "execution_count": 9,
   "metadata": {},
   "outputs": [],
   "source": [
    "def clean_car_data(df):\n",
    "    df = clean_name(df)\n",
    "    df = one_hot_encoding(df)\n",
    "    df = clean_owner(df)\n",
    "    df = remove_units(df)\n",
    "    df = clean_torque(df)\n",
    "    df = df.astype(float)\n",
    "    df.fillna(df.mean(),inplace=True)\n",
    "    y = df.selling_price\n",
    "    df.drop(\"selling_price\",inplace=True,axis=1)\n",
    "    df = df.reset_index()\n",
    "    df = df.to_numpy()\n",
    "    y = y.to_numpy()\n",
    "    m = y.shape\n",
    "    df = np.append(df,np.ones([m[0],1]),axis=1)\n",
    "    return df,y"
   ]
  },
  {
   "cell_type": "code",
   "execution_count": 10,
   "metadata": {},
   "outputs": [],
   "source": [
    "X,y = clean_car_data(train_data)"
   ]
  },
  {
   "cell_type": "code",
   "execution_count": 11,
   "metadata": {},
   "outputs": [
    {
     "name": "stdout",
     "output_type": "stream",
     "text": [
      "                 0       1         2    3      4       5       6    7    8   \\\n",
      "0     580881.772727  2014.0  145500.0  8.0  23.40  1248.0   74.00  5.0  0.0   \n",
      "1     490000.000000  2014.0  120000.0  4.0  21.14  1498.0  103.52  5.0  0.0   \n",
      "2     167666.666667  2006.0  140000.0  3.0  17.70  1497.0   78.00  5.0  0.0   \n",
      "3     225000.000000  2010.0  127000.0  8.0  23.00  1396.0   90.00  5.0  0.0   \n",
      "4     130000.000000  2007.0  120000.0  8.0  16.10  1298.0   88.20  5.0  0.0   \n",
      "...             ...     ...       ...  ...    ...     ...     ...  ...  ...   \n",
      "6496  610000.000000  2015.0   33000.0  8.0  20.73  1373.0   91.10  5.0  0.0   \n",
      "6497  979000.000000  2015.0   50000.0  8.0  19.67  1582.0  126.20  5.0  0.0   \n",
      "6498  475571.285714  2012.0  120000.0  4.0  12.05  2179.0  120.00  9.0  0.0   \n",
      "6499  527500.000000  2018.0   35000.0  8.0  25.40  1186.0   73.97  5.0  0.0   \n",
      "6500  700000.000000  2018.0   43000.0  8.0  27.40  1498.0   98.63  5.0  0.0   \n",
      "\n",
      "       9    10   11   12   13      14      15      16   17  \n",
      "0     1.0  0.0  0.0  1.0  1.0  190.00  2000.0  2000.0  1.0  \n",
      "1     1.0  0.0  0.0  1.0  1.0  250.00  1500.0  2500.0  1.0  \n",
      "2     0.0  1.0  0.0  1.0  1.0   12.70  2700.0  2700.0  1.0  \n",
      "3     1.0  0.0  0.0  1.0  1.0   22.40  1750.0  2750.0  1.0  \n",
      "4     0.0  1.0  0.0  1.0  1.0   11.50  4500.0  4500.0  1.0  \n",
      "...   ...  ...  ...  ...  ...     ...     ...     ...  ...  \n",
      "6496  0.0  1.0  0.0  1.0  1.0  130.00  4000.0  4000.0  1.0  \n",
      "6497  1.0  0.0  0.0  1.0  1.0  259.90  1900.0  2750.0  1.0  \n",
      "6498  1.0  0.0  0.0  1.0  1.0  290.00  1800.0  2800.0  1.0  \n",
      "6499  1.0  0.0  0.0  1.0  1.0  190.25  1750.0  2250.0  1.0  \n",
      "6500  1.0  0.0  0.0  1.0  1.0  200.00  1750.0  1750.0  1.0  \n",
      "\n",
      "[6501 rows x 18 columns]\n"
     ]
    }
   ],
   "source": [
    "print(pd.DataFrame(X))"
   ]
  },
  {
   "cell_type": "code",
   "execution_count": 11,
   "metadata": {},
   "outputs": [],
   "source": [
    "Xt = X.transpose()\n",
    "theta = np.dot(np.linalg.inv(np.dot(Xt,X)),np.dot(Xt,y))"
   ]
  },
  {
   "cell_type": "code",
   "execution_count": 12,
   "metadata": {},
   "outputs": [
    {
     "data": {
      "text/plain": [
       "(18, 1)"
      ]
     },
     "execution_count": 12,
     "metadata": {},
     "output_type": "execute_result"
    }
   ],
   "source": [
    "theta = theta.reshape(18,1)\n",
    "theta.shape"
   ]
  },
  {
   "cell_type": "code",
   "execution_count": 13,
   "metadata": {},
   "outputs": [],
   "source": [
    "y = y.reshape(6501,1)"
   ]
  },
  {
   "cell_type": "code",
   "execution_count": 14,
   "metadata": {},
   "outputs": [],
   "source": [
    "X,y = clean_car_data(test_data)"
   ]
  },
  {
   "cell_type": "code",
   "execution_count": 15,
   "metadata": {},
   "outputs": [],
   "source": [
    "y = y.reshape(1628,1)"
   ]
  },
  {
   "cell_type": "code",
   "execution_count": 16,
   "metadata": {},
   "outputs": [],
   "source": [
    "diff = np.absolute(np.dot(X,theta)-y)"
   ]
  },
  {
   "cell_type": "code",
   "execution_count": 18,
   "metadata": {},
   "outputs": [],
   "source": [
    "MAE = np.nanmean(diff,axis=0)"
   ]
  },
  {
   "cell_type": "code",
   "execution_count": 19,
   "metadata": {},
   "outputs": [
    {
     "name": "stdout",
     "output_type": "stream",
     "text": [
      "[77395.26095081]\n"
     ]
    }
   ],
   "source": [
    "print(MAE)"
   ]
  },
  {
   "cell_type": "code",
   "execution_count": null,
   "metadata": {},
   "outputs": [],
   "source": []
  }
 ],
 "metadata": {
  "kernelspec": {
   "display_name": "taskphaseEnv",
   "language": "python",
   "name": "taskphaseenv"
  },
  "language_info": {
   "codemirror_mode": {
    "name": "ipython",
    "version": 3
   },
   "file_extension": ".py",
   "mimetype": "text/x-python",
   "name": "python",
   "nbconvert_exporter": "python",
   "pygments_lexer": "ipython3",
   "version": "3.9.0"
  }
 },
 "nbformat": 4,
 "nbformat_minor": 4
}
