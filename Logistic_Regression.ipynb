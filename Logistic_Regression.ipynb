{
 "cells": [
  {
   "cell_type": "code",
   "execution_count": 1,
   "metadata": {},
   "outputs": [],
   "source": [
    "import numpy as np\n",
    "import matplotlib.pyplot as plt"
   ]
  },
  {
   "cell_type": "code",
   "execution_count": 2,
   "metadata": {},
   "outputs": [],
   "source": [
    "data = np.genfromtxt(\"data/heartdisease.csv\",delimiter=',')"
   ]
  },
  {
   "cell_type": "code",
   "execution_count": 3,
   "metadata": {},
   "outputs": [],
   "source": [
    "#filling nan data with median values\n",
    "col_median = np.nanmedian(data,axis=0)\n",
    "ind = np.where(np.isnan(data))\n",
    "data[ind] = np.take(col_median,ind[1])"
   ]
  },
  {
   "cell_type": "code",
   "execution_count": 4,
   "metadata": {},
   "outputs": [],
   "source": [
    "train_data = data[:3400,:-1]\n",
    "test_data = data[3400:,:-1]\n",
    "y_train = data[:3400,-1]\n",
    "y_test = data[3400:,-1]\n",
    "y_test = y_test.reshape([len(y_test),1])\n",
    "y_train = y_train.reshape([len(y_train),1])"
   ]
  },
  {
   "cell_type": "code",
   "execution_count": 5,
   "metadata": {},
   "outputs": [],
   "source": [
    "#feature scaling\n",
    "mean = np.mean(train_data,axis=0)\n",
    "maxi = np.max(train_data,axis=0)\n",
    "mini = np.min(train_data,axis=0)\n",
    "train_data-=mean\n",
    "train_data/=(maxi-mini)\n",
    "test_data-=mean\n",
    "test_data/=(maxi-mini)\n"
   ]
  },
  {
   "cell_type": "markdown",
   "metadata": {},
   "source": [
    "#### Creating Biased training data"
   ]
  },
  {
   "cell_type": "code",
   "execution_count": 6,
   "metadata": {},
   "outputs": [],
   "source": [
    "ind_one = np.where(y_train == 1)\n",
    "ind_one = ind_one[0]\n",
    "ind_zero = np.where(y_train == 0)\n",
    "ind_zero = (ind_zero[0])[:1000]\n",
    "X = np.r_[train_data[ind_one],train_data[ind_zero]]\n",
    "y_train = np.r_[y_train[ind_one],y_train[ind_zero]]"
   ]
  },
  {
   "cell_type": "code",
   "execution_count": 7,
   "metadata": {},
   "outputs": [
    {
     "data": {
      "text/plain": [
       "1517"
      ]
     },
     "execution_count": 7,
     "metadata": {},
     "output_type": "execute_result"
    }
   ],
   "source": [
    "len(y_train)"
   ]
  },
  {
   "cell_type": "code",
   "execution_count": 8,
   "metadata": {},
   "outputs": [],
   "source": [
    "X = np.c_[np.ones(len(X)),X]\n",
    "test_data = np.c_[np.ones(len(test_data)),test_data]\n",
    "m = len(train_data)\n",
    "cost = []\n",
    "theta = np.zeros([X.shape[1],1])\n",
    "alpha = 0.5;\n",
    "for i in range(10000):\n",
    "    z = np.dot(X,theta)\n",
    "    h = 1/(1+np.exp(z*(-1)))\n",
    "    cost.append(np.mean(-1*((y_train)*np.log(h)+(1-y_train)*np.log(1-h)),axis=0))\n",
    "    theta -= np.dot(np.transpose(X),h-y_train)*alpha*(1/m)"
   ]
  },
  {
   "cell_type": "code",
   "execution_count": 9,
   "metadata": {},
   "outputs": [
    {
     "data": {
      "image/png": "[encoded data removed]",
      "text/plain": [
       "<Figure size 432x288 with 1 Axes>"
      ]
     },
     "metadata": {
      "needs_background": "light"
     },
     "output_type": "display_data"
    }
   ],
   "source": [
    "plt.plot(cost)\n",
    "plt.show()"
   ]
  },
  {
   "cell_type": "code",
   "execution_count": 10,
   "metadata": {},
   "outputs": [],
   "source": [
    "false_positive = 0\n",
    "missed = 0\n",
    "correct = 0\n",
    "z = np.dot(test_data,theta)\n",
    "h = 1/(1+np.exp(z*(-1)))\n",
    "for i in range(len(test_data)):\n",
    "    p = round(h[i][0])\n",
    "    if p == y_test[i] and p == 1:\n",
    "        correct+=1;\n",
    "    elif p == 1 and y_test[i] == 0:\n",
    "        false_positive+=1\n",
    "    elif p==0 and y_test[i] == 1:\n",
    "        missed += 1"
   ]
  },
  {
   "cell_type": "code",
   "execution_count": 11,
   "metadata": {},
   "outputs": [
    {
     "name": "stdout",
     "output_type": "stream",
     "text": [
      "false positives:97 missed:76 correct:51\n"
     ]
    }
   ],
   "source": [
    "print(\"false positives:\"+str(false_positive)+\" missed:\"+str(missed)+\" correct:\"+str(correct))"
   ]
  },
  {
   "cell_type": "code",
   "execution_count": null,
   "metadata": {},
   "outputs": [],
   "source": []
  },
  {
   "cell_type": "code",
   "execution_count": null,
   "metadata": {},
   "outputs": [],
   "source": []
  }
 ],
 "metadata": {
  "kernelspec": {
   "display_name": "taskphaseEnv",
   "language": "python",
   "name": "taskphaseenv"
  },
  "language_info": {
   "codemirror_mode": {
    "name": "ipython",
    "version": 3
   },
   "file_extension": ".py",
   "mimetype": "text/x-python",
   "name": "python",
   "nbconvert_exporter": "python",
   "pygments_lexer": "ipython3",
   "version": "3.9.0"
  }
 },
 "nbformat": 4,
 "nbformat_minor": 4
}
