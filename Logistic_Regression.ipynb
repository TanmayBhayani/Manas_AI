{
 "cells": [
  {
   "cell_type": "code",
   "execution_count": 1,
   "metadata": {},
   "outputs": [],
   "source": [
    "import numpy as np\n",
    "import matplotlib.pyplot as plt"
   ]
  },
  {
   "cell_type": "code",
   "execution_count": 2,
   "metadata": {},
   "outputs": [],
   "source": [
    "data = np.genfromtxt(\"data/heartdisease.csv\",delimiter=',')"
   ]
  },
  {
   "cell_type": "code",
   "execution_count": 3,
   "metadata": {},
   "outputs": [],
   "source": [
    "#filling nan data with median values\n",
    "col_median = np.nanmedian(data,axis=0)\n",
    "ind = np.where(np.isnan(data))\n",
    "data[ind] = np.take(col_median,ind[1])"
   ]
  },
  {
   "cell_type": "code",
   "execution_count": 4,
   "metadata": {},
   "outputs": [],
   "source": [
    "x_train = data[:3400,:-1]\n",
    "x_test = data[3400:,:-1]\n",
    "y_train = data[:3400,-1]\n",
    "y_test = data[3400:,-1]\n",
    "y_test = y_test.reshape([len(y_test),1])\n",
    "y_train = y_train.reshape([len(y_train),1])"
   ]
  },
  {
   "cell_type": "code",
   "execution_count": 5,
   "metadata": {},
   "outputs": [],
   "source": [
    "#feature scaling\n",
    "mean = np.mean(x_train,axis=0)\n",
    "maxi = np.max(x_train,axis=0)\n",
    "mini = np.min(x_train,axis=0)\n",
    "x_train-=mean\n",
    "x_train/=(maxi-mini)\n",
    "x_train-=mean\n",
    "x_train/=(maxi-mini)\n"
   ]
  },
  {
   "cell_type": "markdown",
   "metadata": {},
   "source": [
    "#### Creating Biased training data"
   ]
  },
  {
   "cell_type": "code",
   "execution_count": 6,
   "metadata": {},
   "outputs": [],
   "source": [
    "ind_one = np.where(y_train == 1)\n",
    "ind_one = ind_one[0]\n",
    "ind_zero = np.where(y_train == 0)\n",
    "ind_zero = (ind_zero[0])[:1000]\n",
    "x_train = np.r_[x_train[ind_one],x_train[ind_zero]]\n",
    "y_train = np.r_[y_train[ind_one],y_train[ind_zero]]"
   ]
  },
  {
   "cell_type": "code",
   "execution_count": 7,
   "metadata": {},
   "outputs": [],
   "source": [
    "x_train = np.c_[np.ones(len(x_train)),x_train]\n",
    "x_test = np.c_[np.ones(len(x_test)),x_test]\n",
    "m = len(x_train)\n",
    "cost = []\n",
    "theta = np.zeros([x_train.shape[1],1])\n",
    "alpha = 0.25;\n",
    "for i in range(10000):\n",
    "    z = np.dot(x_train,theta)\n",
    "    h = 1/(1+np.exp(z*(-1)))\n",
    "    cost.append(np.mean(-1*((y_train)*np.log(h)+(1-y_train)*np.log(1-h)),axis=0))\n",
    "    theta -= np.dot(np.transpose(x_train),h-y_train)*alpha*(1/m)"
   ]
  },
  {
   "cell_type": "code",
   "execution_count": 8,
   "metadata": {},
   "outputs": [
    {
     "data": {
      "image/png": "[encoded data removed]",
      "text/plain": [
       "<Figure size 432x288 with 1 Axes>"
      ]
     },
     "metadata": {
      "needs_background": "light"
     },
     "output_type": "display_data"
    }
   ],
   "source": [
    "plt.plot(cost)\n",
    "plt.show()"
   ]
  },
  {
   "cell_type": "code",
   "execution_count": 9,
   "metadata": {},
   "outputs": [],
   "source": [
    "false_positive = 0\n",
    "false_negative = 0\n",
    "true_positive = 0\n",
    "true_negative = 0\n",
    "z = np.dot(x_test,theta)\n",
    "h = 1/(1+np.exp(z*(-1)))\n",
    "for i in range(len(x_test)):\n",
    "    p = round(h[i][0])\n",
    "    if p == y_test[i] and p == 1:\n",
    "        true_positive+=1;\n",
    "    elif p == 1 and y_test[i] == 0:\n",
    "        false_positive+=1\n",
    "    elif p==0 and y_test[i] == 1:\n",
    "        false_negative += 1\n",
    "    else:\n",
    "        true_negative += 1"
   ]
  },
  {
   "cell_type": "code",
   "execution_count": 10,
   "metadata": {},
   "outputs": [
    {
     "name": "stdout",
     "output_type": "stream",
     "text": [
      "False +ve:169  False -ve:71  True +ve:56  True -ve:543\n"
     ]
    }
   ],
   "source": [
    "print('False +ve:'+str(false_positive)+'  False -ve:'+str(false_negative)+'  True +ve:'+str(true_positive)+'  True -ve:'+str(true_negative))"
   ]
  },
  {
   "cell_type": "code",
   "execution_count": 11,
   "metadata": {},
   "outputs": [
    {
     "name": "stdout",
     "output_type": "stream",
     "text": [
      "Sensitivity:0.24888888888888888 Specificity:0.8843648208469055\n"
     ]
    }
   ],
   "source": [
    "print(\"Sensitivity:\"+str(true_positive/(true_positive+false_positive))+\" Specificity:\"+str(true_negative/(true_negative+false_negative)))"
   ]
  },
  {
   "cell_type": "code",
   "execution_count": null,
   "metadata": {},
   "outputs": [],
   "source": []
  }
 ],
 "metadata": {
  "kernelspec": {
   "display_name": "taskphaseEnv",
   "language": "python",
   "name": "taskphaseenv"
  },
  "language_info": {
   "codemirror_mode": {
    "name": "ipython",
    "version": 3
   },
   "file_extension": ".py",
   "mimetype": "text/x-python",
   "name": "python",
   "nbconvert_exporter": "python",
   "pygments_lexer": "ipython3",
   "version": "3.9.0"
  }
 },
 "nbformat": 4,
 "nbformat_minor": 4
}
