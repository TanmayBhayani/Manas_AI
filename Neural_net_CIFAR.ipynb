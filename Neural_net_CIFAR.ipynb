{
 "cells": [
  {
   "cell_type": "code",
   "execution_count": 1,
   "metadata": {},
   "outputs": [],
   "source": [
    "import numpy as np\n",
    "import pickle\n",
    "import copy\n",
    "import matplotlib.pyplot as plt"
   ]
  },
  {
   "cell_type": "code",
   "execution_count": 2,
   "metadata": {},
   "outputs": [],
   "source": [
    "data = []\n",
    "labels = []\n",
    "#loading pickle files\n",
    "for i in range(1,7):\n",
    "    with open(f'./data/cifar-10-batches/data_batch_{i}','rb') as f:\n",
    "        dict_one = pickle.load(f)\n",
    "        data.append(dict_one[b'data'])\n",
    "        labels.append(dict_one[b'labels'])\n",
    "        f.close()"
   ]
  },
  {
   "cell_type": "code",
   "execution_count": 3,
   "metadata": {},
   "outputs": [],
   "source": [
    "with open('./data/cifar-10-batches/batches.meta','rb') as f:\n",
    "    label_values = pickle.load(f)\n",
    "    f.close()"
   ]
  },
  {
   "cell_type": "code",
   "execution_count": 4,
   "metadata": {},
   "outputs": [],
   "source": [
    "data = np.concatenate(data,axis=0)\n",
    "labels = np.concatenate(labels,axis=0)"
   ]
  },
  {
   "cell_type": "code",
   "execution_count": 5,
   "metadata": {},
   "outputs": [],
   "source": [
    "test_data = data[50000:]\n",
    "test_labels = labels[50000:]\n",
    "data = data[:50000]\n",
    "labels = labels[:50000]"
   ]
  },
  {
   "cell_type": "code",
   "execution_count": 20,
   "metadata": {},
   "outputs": [],
   "source": [
    "input_layer = np.empty([1024,1],dtype=float)\n",
    "hidden_layers =[np.empty([150,1],dtype=float),np.empty([150,1],dtype=float),np.empty([150,1],dtype=float)]\n",
    "output_layer = np.empty([10,1],dtype=float)"
   ]
  },
  {
   "cell_type": "code",
   "execution_count": 21,
   "metadata": {},
   "outputs": [],
   "source": [
    "layers=[input_layer,*hidden_layers,output_layer]"
   ]
  },
  {
   "cell_type": "code",
   "execution_count": 22,
   "metadata": {},
   "outputs": [],
   "source": [
    "def create_weights(l):\n",
    "    E = 1\n",
    "    thetas = []\n",
    "    wb = []\n",
    "    dwb = []\n",
    "    dthetas = []\n",
    "    for i in range(1,len(layers)):\n",
    "        thetas.append((np.random.rand(len(layers[i]),len(layers[i-1]))*(2*E))-E)\n",
    "        wb.append((np.random.rand(len(layers[i]),1)*(2*E))-E)\n",
    "        dthetas.append(np.zeros(thetas[-1].shape,dtype=float))\n",
    "        dwb.append(np.zeros(wb[-1].shape,dtype=float))\n",
    "    return thetas,wb,dthetas,dwb"
   ]
  },
  {
   "cell_type": "code",
   "execution_count": 23,
   "metadata": {},
   "outputs": [],
   "source": [
    "thetas,wb,dthetas,dwb = create_weights(layers)"
   ]
  },
  {
   "cell_type": "code",
   "execution_count": 20,
   "metadata": {},
   "outputs": [],
   "source": [
    "[thetas,wb] = pickle.load(open('./data/weights','rb')) "
   ]
  },
  {
   "cell_type": "code",
   "execution_count": 24,
   "metadata": {},
   "outputs": [],
   "source": [
    "costs = []\n",
    "delta = copy.deepcopy(layers)"
   ]
  },
  {
   "cell_type": "code",
   "execution_count": 25,
   "metadata": {},
   "outputs": [],
   "source": [
    "cost = 0\n",
    "alpha = 0.01\n",
    "batch_size = 100"
   ]
  },
  {
   "cell_type": "code",
   "execution_count": 26,
   "metadata": {},
   "outputs": [],
   "source": [
    "for _ in range(2):#epochs\n",
    "    for d in range(len(data)):\n",
    "        layers[0] = np.reshape(data[d],[1024,1])/255\n",
    "        #forward propogation\n",
    "        for i in range(len(layers)-1):\n",
    "            layers[i+1] = np.dot(thetas[i],layers[i])+wb[i]\n",
    "            #using sigmoid activation function\n",
    "            layers[i+1] = 1/(1+np.exp(layers[i+1]*(-1)))\n",
    "        y = np.zeros([10,1],dtype=int)\n",
    "        y[labels[d],0] = 1\n",
    "        cost+=np.sum(-1*((y)*np.log(layers[-1])+(1-y)*np.log(1-layers[-1])))\n",
    "        #backpropogation\n",
    "        delta[-1] = layers[-1] - y\n",
    "        #calculating partial derivative with respect to theta\n",
    "        for i in range(len(layers)-2,0,-1):\n",
    "            delta[i] = np.dot(np.transpose(thetas[i]),delta[i+1])*(layers[i]*(1-layers[i]))\n",
    "            dthetas[i] += np.dot(delta[i+1],np.transpose(layers[i]))\n",
    "            dwb[i] += delta[i+1]\n",
    "        dthetas[0] += np.dot(delta[1],np.transpose(layers[0]))\n",
    "        dwb[0] += delta[1]\n",
    "        #training on mini batch sizes of 100\n",
    "        if((d+1)%batch_size!=0):\n",
    "            continue\n",
    "        costs.append(cost/batch_size)\n",
    "        cost = 0\n",
    "        #updating weights\n",
    "        for i in range(len(dthetas)):\n",
    "            dthetas[i]/=batch_size\n",
    "            dwb[i]/=batch_size\n",
    "            #gradient descent\n",
    "            thetas[i] -= alpha*dthetas[i]\n",
    "            wb[i]-=alpha*dwb[i]\n",
    "            #resetting to zero\n",
    "            dthetas[i] = np.zeros(thetas[i].shape,dtype=float)\n",
    "            dwb[i] = np.zeros(wb[i].shape,dtype=float)"
   ]
  },
  {
   "cell_type": "code",
   "execution_count": 27,
   "metadata": {},
   "outputs": [
    {
     "data": {
      "image/png": "[encoded data removed]",
      "text/plain": [
       "<Figure size 432x288 with 1 Axes>"
      ]
     },
     "metadata": {
      "needs_background": "light"
     },
     "output_type": "display_data"
    }
   ],
   "source": [
    "plt.plot(costs)\n",
    "plt.show()"
   ]
  },
  {
   "cell_type": "code",
   "execution_count": 28,
   "metadata": {},
   "outputs": [
    {
     "data": {
      "text/plain": [
       "3.1812924249121126"
      ]
     },
     "execution_count": 28,
     "metadata": {},
     "output_type": "execute_result"
    }
   ],
   "source": [
    "costs[-1]"
   ]
  },
  {
   "cell_type": "markdown",
   "metadata": {},
   "source": [
    "## Testing"
   ]
  },
  {
   "cell_type": "code",
   "execution_count": 29,
   "metadata": {},
   "outputs": [],
   "source": [
    "correct = 0"
   ]
  },
  {
   "cell_type": "code",
   "execution_count": 30,
   "metadata": {},
   "outputs": [],
   "source": [
    "for d in range(len(test_data)):\n",
    "    layers[0] = np.reshape(test_data[d],[1024,1])/255\n",
    "    #forward propogation\n",
    "    for i in range(len(layers)-1):\n",
    "        layers[i+1] = np.dot(thetas[i],layers[i])+wb[i]\n",
    "        #using sigmoid activation function\n",
    "        layers[i+1] = 1/(1+np.exp(layers[i+1]*(-1)))\n",
    "    if layers[-1].argmax() == test_labels[d]:\n",
    "        correct += 1"
   ]
  },
  {
   "cell_type": "code",
   "execution_count": 31,
   "metadata": {},
   "outputs": [
    {
     "name": "stdout",
     "output_type": "stream",
     "text": [
      "20.27\n"
     ]
    }
   ],
   "source": [
    "print((correct/len(test_data))*100)"
   ]
  },
  {
   "cell_type": "markdown",
   "metadata": {},
   "source": [
    "## Saving Weights"
   ]
  },
  {
   "cell_type": "code",
   "execution_count": 32,
   "metadata": {},
   "outputs": [],
   "source": [
    "pickle.dump([thetas,wb],open(\"./data/weights\",'wb'))"
   ]
  },
  {
   "cell_type": "code",
   "execution_count": null,
   "metadata": {},
   "outputs": [],
   "source": []
  }
 ],
 "metadata": {
  "kernelspec": {
   "display_name": "taskphaseEnv",
   "language": "python",
   "name": "taskphaseenv"
  },
  "language_info": {
   "codemirror_mode": {
    "name": "ipython",
    "version": 3
   },
   "file_extension": ".py",
   "mimetype": "text/x-python",
   "name": "python",
   "nbconvert_exporter": "python",
   "pygments_lexer": "ipython3",
   "version": "3.9.0"
  }
 },
 "nbformat": 4,
 "nbformat_minor": 4
}
